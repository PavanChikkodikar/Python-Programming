{
  "nbformat": 4,
  "nbformat_minor": 0,
  "metadata": {
    "colab": {
      "provenance": [],
      "authorship_tag": "ABX9TyPBr8ZUfY4oi74PWYuAkUMF",
      "include_colab_link": true
    },
    "kernelspec": {
      "name": "python3",
      "display_name": "Python 3"
    },
    "language_info": {
      "name": "python"
    }
  },
  "cells": [
    {
      "cell_type": "markdown",
      "metadata": {
        "id": "view-in-github",
        "colab_type": "text"
      },
      "source": [
        "<a href=\"https://colab.research.google.com/github/PavanChikkodikar/Python-Programming/blob/main/Python.ipynb\" target=\"_parent\"><img src=\"https://colab.research.google.com/assets/colab-badge.svg\" alt=\"Open In Colab\"/></a>"
      ]
    },
    {
      "cell_type": "markdown",
      "source": [
        "Keywords/Reserve words in programming language\n",
        "\n",
        "1. C - 32\n",
        "2. C++ - 95\n",
        "3. Java - 68\n",
        "4. Python - 35\n",
        "\n"
      ],
      "metadata": {
        "id": "vgyCC1MLvFmM"
      }
    },
    {
      "cell_type": "code",
      "source": [],
      "metadata": {
        "id": "gCy-ui-CvHSd"
      },
      "execution_count": null,
      "outputs": []
    }
  ]
}